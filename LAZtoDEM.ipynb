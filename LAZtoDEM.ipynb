{
 "cells": [
  {
   "cell_type": "code",
   "execution_count": 33,
   "id": "a5293b4a",
   "metadata": {},
   "outputs": [
    {
     "data": {
      "text/plain": [
       "'\\n# Step 5: Create Slope Model\\narcpy.CheckOutExtension(\"Spatial\")  # Check out Spatial Analyst extension\\nslope = Slope(output_raster, output_measurement=\"DEGREE\")  # Calculate slope\\nslope.save(slope_model)  # Save the slope model\\narcpy.CheckInExtension(\"Spatial\")  # Check in Spatial Analyst extension\\n\\nprint(\"Process completed successfully!\")\\n'"
      ]
     },
     "execution_count": 33,
     "metadata": {},
     "output_type": "execute_result"
    }
   ],
   "source": [
    "import arcpy\n",
    "from arcpy.sa import Slope\n",
    "\n",
    "# Set environment settings\n",
    "arcpy.env.workspace = r\"C:\\LiDAR_2\"\n",
    "arcpy.env.overwriteOutput = True\n",
    "\n",
    "\n",
    "# Input and output paths\n",
    "input_laz = r\"C:\\LiDAR_2\\2024\\Lone_Oaks_2024-05-01_Raw.copc.laz\" #takes the point cloud as an input as .laz\n",
    "converted_las = r\"C:\\LiDAR_2\\project_output\\\\\" #to store the .las from .laz\n",
    "las_dataset = r\"C:\\LiDAR_2\\lasdataset\\dataset.lasd\" #to store .lasd dataset\n",
    "output_raster = r\"C:\\LiDAR_2\\raster\\dem.tif\" #to store DEM raster\n",
    "slope_model = r\"C:\\LiDAR_2\\raster\\slope.tif\" #to store slope model\n",
    "\n",
    "# NAD 83 State Plane Tennessee FIPS 4100 (Feet)\n",
    "spatial_reference = arcpy.SpatialReference(2274)  # EPSG Code for NAD 1983 Tennessee State Plane \n",
    "\n",
    "#convert LAZ to LAS\n",
    "arcpy.conversion.ConvertLas(\n",
    "    input_laz,\n",
    "    converted_las,\n",
    "    \"1.4\"# LAS file version\n",
    "    \"NO_COMPRESSION\"\n",
    ")\n",
    "\n",
    "#create LAS Dataset\n",
    "arcpy.management.CreateLasDataset(\n",
    "    [r\"C:\\LiDAR_2\\project_output\\Lone_Oaks_2024-05-01_Raw.copc.las\"],  #takes the las file\n",
    "    las_dataset,\n",
    "    \"RECURSION\", #to loop through all files in the folder\n",
    "    None, #not sure why, but after many attempts this worked\n",
    "    spatial_reference \n",
    ")\n",
    "\n",
    "\n",
    "#classify Ground\n",
    "arcpy.ddd.ClassifyLasGround(\n",
    "    in_las_dataset = las_dataset,\n",
    "    method = \"CONSERVATIVE\", #method to classify ground to non-ground points\n",
    "    dem_resolution = 5, #resolution for sampling\n",
    "    reuse_ground=\"RECLASSIFY_GROUND\",\n",
    "    dem_resolution=\"0.5 Meters\",\n",
    "    compute_stats=\"COMPUTE_STATS\",\n",
    "    extent=\"DEFAULT\",\n",
    "    boundary=None,\n",
    "    process_entire_files=\"PROCESS_EXTENT\",\n",
    "    update_pyramid=\"UPDATE_PYRAMID\",\n",
    "    algorithm=\"LATEST\",\n",
    "    classify_low_noise=\"NO_CLASSIFY_LOW_NOISE\",\n",
    "    minimum_depth_below_ground=\"0.25 Meters\",\n",
    "    preserve_low_noise=\"RECLASSIFY_LOW_NOISE\",\n",
    "    classify_high_noise=\"NO_CLASSIFY_HIGH_NOISE\",\n",
    "    minimum_height_above_ground=\"100 Meters\",\n",
    "    preserve_high_noise=\"RECLASSIFY_HIGH_NOISE\"\n",
    ")\n",
    "\n",
    "\n",
    "#export LAS Dataset to Raster\n",
    "arcpy.conversion.LasDatasetToRaster(\n",
    "    in_las_dataset=las_dataset,\n",
    "    out_raster = output_raster,\n",
    "    value_field=\"ELEVATION\",  # Field to base raster values on\n",
    "    interpolation_type=\"BINNING MAXIMUM NATURAL_NEIGHBOR\", #method to interpolate the point cloud to raster\n",
    "    data_type=\"FLOAT\", #type for the cell\n",
    "    sampling_type=\"CELLSIZE\",\n",
    "    sampling_value=.5  #cell size \n",
    ")\n",
    "\n",
    "\n",
    "print(\"Process completed successfully\")\n",
    "\n"
   ]
  },
  {
   "cell_type": "code",
   "execution_count": null,
   "id": "2aee5f48",
   "metadata": {},
   "outputs": [],
   "source": []
  },
  {
   "cell_type": "code",
   "execution_count": null,
   "id": "153e5dd2",
   "metadata": {},
   "outputs": [],
   "source": []
  }
 ],
 "metadata": {
  "kernelspec": {
   "display_name": "Python 3 (ipykernel)",
   "language": "python",
   "name": "python3"
  },
  "language_info": {
   "codemirror_mode": {
    "name": "ipython",
    "version": 3
   },
   "file_extension": ".py",
   "mimetype": "text/x-python",
   "name": "python",
   "nbconvert_exporter": "python",
   "pygments_lexer": "ipython3",
   "version": "3.11.8"
  }
 },
 "nbformat": 4,
 "nbformat_minor": 5
}
